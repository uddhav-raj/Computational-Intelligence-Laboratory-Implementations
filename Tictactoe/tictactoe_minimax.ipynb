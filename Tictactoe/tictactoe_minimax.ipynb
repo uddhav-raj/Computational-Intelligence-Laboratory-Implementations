{
 "cells": [
  {
   "cell_type": "code",
   "execution_count": 1,
   "metadata": {
    "collapsed": true
   },
   "outputs": [],
   "source": [
    "player = 'x'\n",
    "opponent = 'o'"
   ]
  },
  {
   "cell_type": "code",
   "execution_count": 2,
   "metadata": {
    "collapsed": true
   },
   "outputs": [],
   "source": [
    "def isMovesLeft(board):\n",
    "    for row in board:\n",
    "        for move in row:\n",
    "            if move=='_':\n",
    "                return True\n",
    "    \n",
    "    return False"
   ]
  },
  {
   "cell_type": "code",
   "execution_count": 3,
   "metadata": {
    "collapsed": true
   },
   "outputs": [],
   "source": [
    "def heuristic(board):\n",
    "    for row in range(0,3):\n",
    "        if(board[row][0]==board[row][1] and board[row][1]==board[row][2]):\n",
    "            if(board[row][0]==player):\n",
    "                return 10\n",
    "            elif(board[row][0]==opponent):\n",
    "                return -10\n",
    "    \n",
    "    for col in range(0,3):\n",
    "        if(board[0][col]==board[1][col] and board[1][col]==board[2][col]):\n",
    "            if(board[0][col]==player):\n",
    "                return 10\n",
    "            elif(board[0][col]==opponent):\n",
    "                return -10\n",
    "    \n",
    "    if(board[0][0]==board[1][1] and board[1][1]==board[2][2]):\n",
    "        if(board[0][0]==player):\n",
    "            return 10\n",
    "        elif(board[0][0]==opponent):\n",
    "            return -10\n",
    "    \n",
    "    if(board[0][2]==board[1][1] and board[1][1]==board[2][0]):\n",
    "        if(board[0][2]==player):\n",
    "            return 10\n",
    "        elif(board[0][2]==opponent):\n",
    "            return -10\n",
    "    \n",
    "    return 0"
   ]
  },
  {
   "cell_type": "code",
   "execution_count": 4,
   "metadata": {
    "collapsed": true
   },
   "outputs": [],
   "source": [
    "def minimax(board, depth, isMax):\n",
    "    score = heuristic(board)\n",
    "    \n",
    "    if score==10:\n",
    "        return score-depth\n",
    "    \n",
    "    if score==-10:\n",
    "        return score+depth\n",
    "    \n",
    "    if(isMovesLeft(board)==False):\n",
    "        return 0\n",
    "    \n",
    "    if isMax:\n",
    "        best = -1000\n",
    "        for i in range(0,3):\n",
    "            for j in range(0,3):\n",
    "                if board[i][j]=='_':\n",
    "                    board[i][j]=player\n",
    "                    best = max(best, minimax(board, depth+1, not isMax))\n",
    "                    board[i][j]='_'\n",
    "        \n",
    "        return best\n",
    "    \n",
    "    else:\n",
    "        best = 1000\n",
    "        for i in range(0,3):\n",
    "            for j in range(0,3):\n",
    "                if board[i][j]=='_':\n",
    "                    board[i][j]=opponent\n",
    "                    best = min(best, minimax(board, depth+1, not isMax))\n",
    "                    board[i][j]='_'\n",
    "        return best\n",
    "            \n",
    "                \n",
    "    "
   ]
  },
  {
   "cell_type": "code",
   "execution_count": 5,
   "metadata": {
    "collapsed": true
   },
   "outputs": [],
   "source": [
    "def findBestMove(board):\n",
    "    \n",
    "    bestvalue = -1000\n",
    "    bestmove = (-1,-1)\n",
    "    \n",
    "    for i in range(0,3):\n",
    "        for j in range(0,3):\n",
    "            if board[i][j]=='_':\n",
    "                board[i][j] = player\n",
    "                curvalue = minimax(board, 0, False)\n",
    "                if curvalue > bestvalue:\n",
    "                    bestmove = (i,j)\n",
    "                    bestvalue = curvalue\n",
    "                \n",
    "                board[i][j]='_'\n",
    "    \n",
    "    return bestvalue, bestmove\n",
    "            "
   ]
  },
  {
   "cell_type": "code",
   "execution_count": 6,
   "metadata": {
    "collapsed": true
   },
   "outputs": [],
   "source": [
    "def theNextMove(board):\n",
    "    bestscore, bestmove = findBestMove(board)\n",
    "    print(\"The best possible score is: {}\".format(bestscore))\n",
    "    print(\"And the move is: {}\".format(bestmove))"
   ]
  },
  {
   "cell_type": "code",
   "execution_count": 7,
   "metadata": {},
   "outputs": [
    {
     "name": "stdout",
     "output_type": "stream",
     "text": [
      "The best possible score is: 10\n",
      "And the move is: (2, 2)\n"
     ]
    }
   ],
   "source": [
    "board = [['x', 'o', 'x'], ['o', 'o', 'x'], ['_', '_', '_']]\n",
    "theNextMove(board)"
   ]
  },
  {
   "cell_type": "code",
   "execution_count": null,
   "metadata": {
    "collapsed": true
   },
   "outputs": [],
   "source": []
  }
 ],
 "metadata": {
  "kernelspec": {
   "display_name": "Python 3",
   "language": "python",
   "name": "python3"
  },
  "language_info": {
   "codemirror_mode": {
    "name": "ipython",
    "version": 3
   },
   "file_extension": ".py",
   "mimetype": "text/x-python",
   "name": "python",
   "nbconvert_exporter": "python",
   "pygments_lexer": "ipython3",
   "version": "3.6.3"
  }
 },
 "nbformat": 4,
 "nbformat_minor": 2
}
