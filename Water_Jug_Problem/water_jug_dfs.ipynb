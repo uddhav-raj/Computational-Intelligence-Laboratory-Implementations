{
 "cells": [
  {
   "cell_type": "code",
   "execution_count": 1,
   "metadata": {
    "collapsed": true
   },
   "outputs": [],
   "source": [
    "import sys"
   ]
  },
  {
   "cell_type": "code",
   "execution_count": 2,
   "metadata": {
    "collapsed": true
   },
   "outputs": [],
   "source": [
    "def dfs_util(a, b, target, state, traversed, path=[]):\n",
    "    \n",
    "    if state[0]>a or state[1]>b or state[0]<0 or state[1]<0:\n",
    "        return\n",
    "\n",
    "    path.append(state)\n",
    "\n",
    "    traversed[state] = True\n",
    "\n",
    "    if state[0]==target or state[1]==target:\n",
    "        if state[0]==target:\n",
    "            if state[1]!=0:\n",
    "                path.append((state[0],0))\n",
    "        else:\n",
    "            if state[0]!=0:\n",
    "                path.append((0,state[1]))\n",
    "\n",
    "        if path[0]!=(0,0):\n",
    "            path.reverse()\n",
    "            path.append((0,0))\n",
    "            path.reverse()\n",
    "\n",
    "        print(path)\n",
    "        sys.exit()\n",
    "        return\n",
    "\n",
    "\n",
    "    new_state = (state[0], b)\n",
    "    if new_state not in traversed:\n",
    "        dfs_util(a, b, target, new_state, traversed, path)\n",
    "\n",
    "    new_state = (a, state[1])\n",
    "    if new_state not in traversed:\n",
    "        dfs_util(a, b, target, new_state, traversed, path)\n",
    "\n",
    "\n",
    "    i=0\n",
    "    for i in range(0, max(a,b)+1):\n",
    "        c = state[0] + i\n",
    "        d = state[1] - i\n",
    "\n",
    "        if c==a or (d==0 and d>=0):\n",
    "            new_state = (c,d)\n",
    "            if new_state not in traversed:\n",
    "                dfs_util(a, b, target, new_state, traversed, path)\n",
    "                \n",
    "\n",
    "        c = state[0] - i\n",
    "        d = state[1] + i\n",
    "\n",
    "        if (c==0 and c>=0) or d==b:\n",
    "            new_state = (c,d)\n",
    "            if new_state not in traversed:\n",
    "                dfs_util(a, b, target, new_state, traversed, path)\n",
    "\n",
    "    new_state = (a,0)\n",
    "    if new_state not in traversed:\n",
    "        dfs_util(a, b, target, new_state, traversed, path)\n",
    "\n",
    "    new_state = (0, b)\n",
    "    if new_state not in traversed:\n",
    "        dfs_util(a, b, target, new_state, traversed, path)    "
   ]
  },
  {
   "cell_type": "code",
   "execution_count": 3,
   "metadata": {},
   "outputs": [],
   "source": [
    "def dfs(a, b, target):\n",
    "    traversed = {}\n",
    "\n",
    "    state = (0,0)\n",
    "\n",
    "    if state not in traversed:\n",
    "        dfs_util(a, b, target, state, traversed)\n",
    "\n",
    "    new_state = (state[0], b)\n",
    "    if new_state not in traversed:\n",
    "        dfs_util(a, b, target, new_state, traversed)\n",
    "\n",
    "    new_state = (a, state[1])\n",
    "    if new_state not in traversed:\n",
    "        dfs_util(a, b, target, new_state, traversed)\n",
    "\n",
    "\n",
    "    i=0\n",
    "    for i in range(0, max(a,b)+1):\n",
    "        c = state[0] + i\n",
    "        d = state[1] - i\n",
    "\n",
    "        if c==a or (d==0 and d>=0):\n",
    "            new_state = (c,d)\n",
    "            if new_state not in traversed:\n",
    "                dfs_util(a, b, target, new_state, traversed)\n",
    "                \n",
    "\n",
    "        c = state[0] - i\n",
    "        d = state[1] + i\n",
    "\n",
    "        if (c==0 and c>=0) or d==b:\n",
    "            new_state = (c,d)\n",
    "            if new_state not in traversed:\n",
    "                dfs_util(a, b, target, new_state, traversed)\n",
    "\n",
    "    new_state = (a,0)\n",
    "    if new_state not in traversed:\n",
    "        dfs_util(a, b, target, new_state, traversed)\n",
    "\n",
    "    new_state = (0, b)\n",
    "    if new_state not in traversed:\n",
    "        dfs_util(a, b, target, new_state, traversed)\n",
    "    \n",
    "    if isSolvable==False:\n",
    "        print(\"No Solution\")"
   ]
  },
  {
   "cell_type": "code",
   "execution_count": 4,
   "metadata": {},
   "outputs": [
    {
     "name": "stdout",
     "output_type": "stream",
     "text": [
      "[(0, 0), (0, 3), (4, 3), (4, 0), (1, 3), (3, 0), (3, 3), (4, 2), (0, 2)]\n"
     ]
    },
    {
     "ename": "SystemExit",
     "evalue": "",
     "output_type": "error",
     "traceback": [
      "An exception has occurred, use %tb to see the full traceback.\n",
      "\u001b[1;31mSystemExit\u001b[0m\n"
     ]
    },
    {
     "name": "stderr",
     "output_type": "stream",
     "text": [
      "C:\\Users\\hp\\Anaconda3\\lib\\site-packages\\IPython\\core\\interactiveshell.py:2870: UserWarning: To exit: use 'exit', 'quit', or Ctrl-D.\n",
      "  warn(\"To exit: use 'exit', 'quit', or Ctrl-D.\", stacklevel=1)\n"
     ]
    }
   ],
   "source": [
    "dfs(4,3,2)"
   ]
  },
  {
   "cell_type": "code",
   "execution_count": null,
   "metadata": {
    "collapsed": true
   },
   "outputs": [],
   "source": []
  }
 ],
 "metadata": {
  "kernelspec": {
   "display_name": "Python 3",
   "language": "python",
   "name": "python3"
  },
  "language_info": {
   "codemirror_mode": {
    "name": "ipython",
    "version": 3
   },
   "file_extension": ".py",
   "mimetype": "text/x-python",
   "name": "python",
   "nbconvert_exporter": "python",
   "pygments_lexer": "ipython3",
   "version": "3.6.3"
  }
 },
 "nbformat": 4,
 "nbformat_minor": 2
}
