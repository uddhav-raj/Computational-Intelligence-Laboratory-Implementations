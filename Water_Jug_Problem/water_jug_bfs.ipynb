{
 "cells": [
  {
   "cell_type": "code",
   "execution_count": 3,
   "metadata": {
    "collapsed": true
   },
   "outputs": [],
   "source": [
    "def bfs(a, b, target):\n",
    "    visited = dict()\n",
    "    isSolvable = False\n",
    "    path = []\n",
    "\n",
    "    q = list()\n",
    "    v = (0,0)\n",
    "    q.append(v)\n",
    "\n",
    "    while len(q) > 0:\n",
    "        u = q.pop(0)\n",
    "        if u in visited:\n",
    "            continue\n",
    "\n",
    "        if u[0]>a or u[1]>b or u[0]<0 or u[1]<0:\n",
    "            continue\n",
    "\n",
    "        path.append(u)\n",
    "        visited[u] = 1\n",
    "\n",
    "        if u[0]==target or u[1]==target:\n",
    "            isSolvable = True\n",
    "            if u[0]==target:\n",
    "                if u[1]!=0:\n",
    "                    path.append((u[0],0))\n",
    "            else:\n",
    "                if u[0]!=0:\n",
    "                    path.append((0,u[1]))\n",
    "\n",
    "            print(path)\n",
    "            break\n",
    "        \n",
    "        q.append((u[0],b))\n",
    "        q.append((a,u[1]))\n",
    "\n",
    "        i=0\n",
    "        for i in range(0, max(a,b)+1):\n",
    "            c = u[0] + i\n",
    "            d = u[1] - i\n",
    "\n",
    "            if c==a or (d==0 and d>=0):\n",
    "                q.append((c,d))\n",
    "\n",
    "            c = u[0] - i\n",
    "            d = u[1] + i\n",
    "\n",
    "            if (c==0 and c>=0) or d==b:\n",
    "                q.append((c,d))\n",
    "\n",
    "        q.append((a,0))\n",
    "        q.append((0,b))\n",
    "\n",
    "    if isSolvable==False:\n",
    "        print(\"No Solution\")\n",
    "\n"
   ]
  },
  {
   "cell_type": "code",
   "execution_count": 4,
   "metadata": {},
   "outputs": [
    {
     "name": "stdout",
     "output_type": "stream",
     "text": [
      "[(0, 0), (0, 3), (4, 0), (4, 3), (3, 0), (1, 3), (3, 3), (4, 2), (0, 2)]\n"
     ]
    }
   ],
   "source": [
    "bfs(4,3,2)"
   ]
  },
  {
   "cell_type": "code",
   "execution_count": null,
   "metadata": {
    "collapsed": true
   },
   "outputs": [],
   "source": []
  }
 ],
 "metadata": {
  "kernelspec": {
   "display_name": "Python 3",
   "language": "python",
   "name": "python3"
  },
  "language_info": {
   "codemirror_mode": {
    "name": "ipython",
    "version": 3
   },
   "file_extension": ".py",
   "mimetype": "text/x-python",
   "name": "python",
   "nbconvert_exporter": "python",
   "pygments_lexer": "ipython3",
   "version": "3.6.3"
  }
 },
 "nbformat": 4,
 "nbformat_minor": 2
}
