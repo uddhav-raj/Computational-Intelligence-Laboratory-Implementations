{
 "cells": [
  {
   "cell_type": "code",
   "execution_count": 1,
   "metadata": {
    "collapsed": true
   },
   "outputs": [],
   "source": [
    "from queue import PriorityQueue"
   ]
  },
  {
   "cell_type": "code",
   "execution_count": 2,
   "metadata": {
    "collapsed": true
   },
   "outputs": [],
   "source": [
    "def heuristic(state, target):\n",
    "    x = state[0]\n",
    "    y = state[1]\n",
    "\n",
    "    return abs(x-target)+ abs(y-target)"
   ]
  },
  {
   "cell_type": "code",
   "execution_count": 4,
   "metadata": {
    "collapsed": true
   },
   "outputs": [],
   "source": [
    "def best_first(a, b, target):\n",
    "    frontier = PriorityQueue()\n",
    "    visited = {}\n",
    "    came_from = {}\n",
    "    \n",
    "    frontier.put((0, (0,0)))\n",
    "    visited[(0,0)] = 1\n",
    "    \n",
    "    isSolvable = False\n",
    "\n",
    "    came_from[(0,0)] = None\n",
    "    \n",
    "\n",
    "    while not frontier.empty():\n",
    "        current = frontier.get()[1]\n",
    "        \n",
    "\n",
    "        if current[0]>a or current[1]>b or current[0]<0 or current[1]<0:\n",
    "            continue\n",
    "\n",
    "        if current[0]==target or current[1]==target:\n",
    "            isSolvable = True\n",
    "            now = current\n",
    "            path = []\n",
    "\n",
    "            while now != None:\n",
    "                path.append(now)\n",
    "                now = came_from[now]\n",
    "\n",
    "            #path.append((0,0))\n",
    "            path.reverse()\n",
    "\n",
    "            if current[0]==target:\n",
    "                if current[1]!=0:\n",
    "                    path.append((current[0],0))\n",
    "\n",
    "            else:\n",
    "                if current[0]!=0:\n",
    "                    path.append((0, current[1]))\n",
    "\n",
    "            print(path)\n",
    "            break\n",
    "            \n",
    "\n",
    "        next = (current[0], b)\n",
    "        \n",
    "        if next not in visited:\n",
    "            visited[next] = 1\n",
    "            priority = heuristic(next, target)\n",
    "            frontier.put((priority, next))\n",
    "            came_from[next] = current\n",
    "\n",
    "        next = (a, current[1])\n",
    "        \n",
    "        if next not in visited:\n",
    "            visited[next] = 1\n",
    "            priority = heuristic(next, target)\n",
    "            frontier.put((priority, next))\n",
    "            came_from[next] = current\n",
    "\n",
    "        for i in range(0, max(a,b)+1):\n",
    "            c = current[0] + i\n",
    "            d = current[1] - i\n",
    "\n",
    "            if c==a or (d==0 and d>=0):\n",
    "                next = (c, d)\n",
    "                \n",
    "                if next not in visited:\n",
    "                    visited[next] = 1\n",
    "                    priority = heuristic(next, target)\n",
    "                    frontier.put((priority, next))\n",
    "                    came_from[next] = current\n",
    "\n",
    "            c = current[0] - i\n",
    "            d = current[1] + i\n",
    "\n",
    "            if (c==0 and c>=0) or d==b:\n",
    "                next = (c, d)\n",
    "                \n",
    "                if next not in visited:\n",
    "                    visited[next] = 1\n",
    "                    priority = heuristic(next, target)\n",
    "                    frontier.put((priority, next))\n",
    "                    came_from[next] = current\n",
    "\n",
    "        \n",
    "        next = (a, 0)\n",
    "        \n",
    "        if next not in visited:\n",
    "            visited[next] = 1\n",
    "            priority = heuristic(next, target)\n",
    "            frontier.put((priority, next))\n",
    "            came_from[next] = current\n",
    "\n",
    "        next = (0, b)\n",
    "        \n",
    "        if next not in visited:\n",
    "            visited[next] = 1\n",
    "            priority = heuristic(next, target)\n",
    "            frontier.put((priority, next))\n",
    "            came_from[next] = current\n",
    "\n",
    "    if not isSolvable:\n",
    "        print(\"No Solution\")"
   ]
  },
  {
   "cell_type": "code",
   "execution_count": 5,
   "metadata": {},
   "outputs": [
    {
     "name": "stdout",
     "output_type": "stream",
     "text": [
      "[(0, 0), (0, 3), (3, 0), (3, 3), (4, 2), (0, 2)]\n"
     ]
    }
   ],
   "source": [
    "best_first(4, 3, 2)"
   ]
  },
  {
   "cell_type": "code",
   "execution_count": null,
   "metadata": {
    "collapsed": true
   },
   "outputs": [],
   "source": []
  }
 ],
 "metadata": {
  "kernelspec": {
   "display_name": "Python 3",
   "language": "python",
   "name": "python3"
  },
  "language_info": {
   "codemirror_mode": {
    "name": "ipython",
    "version": 3
   },
   "file_extension": ".py",
   "mimetype": "text/x-python",
   "name": "python",
   "nbconvert_exporter": "python",
   "pygments_lexer": "ipython3",
   "version": "3.6.3"
  }
 },
 "nbformat": 4,
 "nbformat_minor": 2
}
