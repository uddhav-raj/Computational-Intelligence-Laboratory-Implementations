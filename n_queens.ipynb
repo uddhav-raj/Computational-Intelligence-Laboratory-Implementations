{
 "cells": [
  {
   "cell_type": "code",
   "execution_count": 1,
   "metadata": {
    "collapsed": true
   },
   "outputs": [],
   "source": [
    "import copy"
   ]
  },
  {
   "cell_type": "code",
   "execution_count": 2,
   "metadata": {
    "collapsed": true
   },
   "outputs": [],
   "source": [
    "solutions = []"
   ]
  },
  {
   "cell_type": "code",
   "execution_count": 3,
   "metadata": {
    "collapsed": true
   },
   "outputs": [],
   "source": [
    "def get_chessboard(size):\n",
    "    chessboard = [0]*size\n",
    "    for i in range(size):\n",
    "        chessboard[i] = [0]*size\n",
    "    return chessboard"
   ]
  },
  {
   "cell_type": "code",
   "execution_count": 5,
   "metadata": {
    "collapsed": true
   },
   "outputs": [],
   "source": [
    "def print_solutions(solutions, size):\n",
    "    for sol in solutions:\n",
    "        for row in sol:\n",
    "            print(row)\n",
    "        print()"
   ]
  },
  {
   "cell_type": "code",
   "execution_count": 6,
   "metadata": {
    "collapsed": true
   },
   "outputs": [],
   "source": [
    "def isSafe(chessboard, row, col, size):\n",
    "\n",
    "    #checking the row on the left side\n",
    "    for iy in range(col):\n",
    "        if chessboard[row][iy] == 1:\n",
    "            return False\n",
    "    \n",
    "    ix, iy = row, col\n",
    "    while ix >= 0 and iy >= 0:\n",
    "        if chessboard[ix][iy] == 1:\n",
    "            return False\n",
    "        ix-=1\n",
    "        iy-=1\n",
    "    \n",
    "    jx, jy = row,col\n",
    "    while jx < size and jy >= 0:\n",
    "        if chessboard[jx][jy] == 1:\n",
    "            return False\n",
    "        jx+=1\n",
    "        jy-=1\n",
    "    \n",
    "    return True"
   ]
  },
  {
   "cell_type": "code",
   "execution_count": 7,
   "metadata": {
    "collapsed": true
   },
   "outputs": [],
   "source": [
    "def solve(chessboard, col, size):\n",
    "    \n",
    "    if col >= size:\n",
    "        return\n",
    "    \n",
    "    for i in range(size):\n",
    "        if isSafe(chessboard, i, col, size):\n",
    "            chessboard[i][col] = 1\n",
    "            if col == size-1:\n",
    "                add_solution(chessboard)\n",
    "                chessboard[i][col] = 0\n",
    "                return\n",
    "            solve(chessboard, col+1, size)\n",
    "            chessboard[i][col] = 0"
   ]
  },
  {
   "cell_type": "code",
   "execution_count": 8,
   "metadata": {
    "collapsed": true
   },
   "outputs": [],
   "source": [
    "def add_solution(chessboard):\n",
    "    saved_board = copy.deepcopy(chessboard)\n",
    "    solutions.append(saved_board)"
   ]
  },
  {
   "cell_type": "code",
   "execution_count": 9,
   "metadata": {
    "collapsed": true
   },
   "outputs": [],
   "source": [
    "size = 4"
   ]
  },
  {
   "cell_type": "code",
   "execution_count": 10,
   "metadata": {
    "collapsed": true
   },
   "outputs": [],
   "source": [
    "chessboard = get_chessboard(size)\n",
    "solve(chessboard, 0, size)"
   ]
  },
  {
   "cell_type": "code",
   "execution_count": 11,
   "metadata": {},
   "outputs": [
    {
     "name": "stdout",
     "output_type": "stream",
     "text": [
      "[0, 0, 1, 0]\n",
      "[1, 0, 0, 0]\n",
      "[0, 0, 0, 1]\n",
      "[0, 1, 0, 0]\n",
      "\n",
      "[0, 1, 0, 0]\n",
      "[0, 0, 0, 1]\n",
      "[1, 0, 0, 0]\n",
      "[0, 0, 1, 0]\n",
      "\n"
     ]
    }
   ],
   "source": [
    "print_solutions(solutions, size)"
   ]
  },
  {
   "cell_type": "code",
   "execution_count": 12,
   "metadata": {},
   "outputs": [
    {
     "name": "stdout",
     "output_type": "stream",
     "text": [
      "Total solutions = 2\n"
     ]
    }
   ],
   "source": [
    "print(\"Total solutions = {}\".format(len(solutions)))"
   ]
  },
  {
   "cell_type": "code",
   "execution_count": null,
   "metadata": {
    "collapsed": true
   },
   "outputs": [],
   "source": []
  }
 ],
 "metadata": {
  "kernelspec": {
   "display_name": "Python 3",
   "language": "python",
   "name": "python3"
  },
  "language_info": {
   "codemirror_mode": {
    "name": "ipython",
    "version": 3
   },
   "file_extension": ".py",
   "mimetype": "text/x-python",
   "name": "python",
   "nbconvert_exporter": "python",
   "pygments_lexer": "ipython3",
   "version": "3.6.3"
  }
 },
 "nbformat": 4,
 "nbformat_minor": 2
}
