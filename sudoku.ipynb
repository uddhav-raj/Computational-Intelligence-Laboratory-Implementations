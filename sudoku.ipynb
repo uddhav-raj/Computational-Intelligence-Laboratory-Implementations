{
 "cells": [
  {
   "cell_type": "code",
   "execution_count": 1,
   "metadata": {
    "collapsed": true
   },
   "outputs": [],
   "source": [
    "def print_sudoku(sudoku):\n",
    "    \n",
    "    for row in range(0,9):\n",
    "        for col in range(0,9):\n",
    "            print(sudoku[row][col], end=' ')\n",
    "        print()"
   ]
  },
  {
   "cell_type": "code",
   "execution_count": 2,
   "metadata": {
    "collapsed": true
   },
   "outputs": [],
   "source": [
    "def find_empty_location(sudoku):\n",
    "    loc = [0,0]\n",
    "    for row in range(0,9):\n",
    "        for col in range(0,9):\n",
    "            if sudoku[row][col]==0:\n",
    "                loc[0]=row\n",
    "                loc[1]=col\n",
    "                return loc, True\n",
    "    \n",
    "    return loc, False"
   ]
  },
  {
   "cell_type": "code",
   "execution_count": 3,
   "metadata": {
    "collapsed": true
   },
   "outputs": [],
   "source": [
    "def used_in_row(sudoku, row, num):\n",
    "    for col in range(0,9):\n",
    "        if sudoku[row][col]==num:\n",
    "            return True\n",
    "    \n",
    "    return False"
   ]
  },
  {
   "cell_type": "code",
   "execution_count": 4,
   "metadata": {
    "collapsed": true
   },
   "outputs": [],
   "source": [
    "def used_in_col(sudoku, col, num):\n",
    "    for row in range(0,9):\n",
    "        if sudoku[row][col]==num:\n",
    "            return True\n",
    "    \n",
    "    return False"
   ]
  },
  {
   "cell_type": "code",
   "execution_count": 5,
   "metadata": {
    "collapsed": true
   },
   "outputs": [],
   "source": [
    "def used_in_box(sudoku, row, col, num):\n",
    "    for i in range(row, row+3):\n",
    "        for j in range(col, col+3):\n",
    "            if sudoku[i][j]==num:\n",
    "                return True\n",
    "    \n",
    "    return False\n"
   ]
  },
  {
   "cell_type": "code",
   "execution_count": 6,
   "metadata": {
    "collapsed": true
   },
   "outputs": [],
   "source": [
    "def check_location_is_safe(sudoku, row, col, num):\n",
    "    if not used_in_row(sudoku, row, num) and not used_in_col(sudoku, col, num) and not used_in_box(sudoku, row-row%3, col-col%3, num):\n",
    "        return True\n",
    "    else:\n",
    "        return False\n",
    "    \n",
    "        "
   ]
  },
  {
   "cell_type": "code",
   "execution_count": 7,
   "metadata": {
    "collapsed": true
   },
   "outputs": [],
   "source": [
    "def solve_sudoku(sudoku):\n",
    "    loc = [0,0]\n",
    "    \n",
    "    loc,isempty = find_empty_location(sudoku)\n",
    "    if not isempty:\n",
    "        return True\n",
    "    \n",
    "    row = loc[0]\n",
    "    col = loc[1]\n",
    "    \n",
    "    for num in range(1, 10):\n",
    "        if check_location_is_safe(sudoku, row, col, num):\n",
    "            sudoku[row][col] = num\n",
    "            \n",
    "            if solve_sudoku(sudoku):\n",
    "                return True\n",
    "            \n",
    "            sudoku[row][col] = 0\n",
    "    \n",
    "    return False    \n",
    "    "
   ]
  },
  {
   "cell_type": "code",
   "execution_count": 8,
   "metadata": {
    "collapsed": true
   },
   "outputs": [],
   "source": [
    "def solution(sudoku):\n",
    "    if solve_sudoku(sudoku):\n",
    "        print_sudoku(sudoku)\n",
    "    else:\n",
    "        print(\"No Solution Exists\")"
   ]
  },
  {
   "cell_type": "code",
   "execution_count": 9,
   "metadata": {
    "collapsed": true
   },
   "outputs": [],
   "source": [
    "sudoku = [[3, 0, 6, 5, 0, 8, 4, 0, 0],\n",
    "          [5, 2, 0, 0, 0, 0, 0, 0, 0],\n",
    "          [0, 8, 7, 0, 0, 0, 0, 3, 1],\n",
    "          [0, 0, 3, 0, 1, 0, 0, 8, 0],\n",
    "          [9, 0, 0, 8, 6, 3, 0, 0, 5],\n",
    "          [0, 5, 0, 0, 9, 0, 6, 0, 0],\n",
    "          [1, 3, 0, 0, 0, 0, 2, 5, 0],\n",
    "          [0, 0, 0, 0, 0, 0, 0, 7, 4],\n",
    "          [0, 0, 5, 2, 0, 6, 3, 0, 0]]"
   ]
  },
  {
   "cell_type": "code",
   "execution_count": 10,
   "metadata": {},
   "outputs": [
    {
     "name": "stdout",
     "output_type": "stream",
     "text": [
      "3 1 6 5 7 8 4 9 2 \n",
      "5 2 9 1 3 4 7 6 8 \n",
      "4 8 7 6 2 9 5 3 1 \n",
      "2 6 3 4 1 5 9 8 7 \n",
      "9 7 4 8 6 3 1 2 5 \n",
      "8 5 1 7 9 2 6 4 3 \n",
      "1 3 8 9 4 7 2 5 6 \n",
      "6 9 2 3 5 1 8 7 4 \n",
      "7 4 5 2 8 6 3 1 9 \n"
     ]
    }
   ],
   "source": [
    "solution(sudoku)"
   ]
  },
  {
   "cell_type": "code",
   "execution_count": 12,
   "metadata": {
    "collapsed": true
   },
   "outputs": [],
   "source": [
    "sudoku = [[8, 0, 0, 0, 0, 0, 0, 0, 0],\n",
    "          [0, 0, 3, 6, 0, 0, 0, 0, 0],\n",
    "          [0, 7, 0, 0, 9, 0, 2, 0, 0],\n",
    "          [0, 5, 0, 0, 0, 7, 0, 0, 0],\n",
    "          [0, 0, 0, 0, 4, 5, 7, 0, 0],\n",
    "          [0, 0, 0, 1, 0, 0, 0, 3, 0],\n",
    "          [0, 0, 1, 0, 0, 0, 0, 6, 8],\n",
    "          [0, 0, 8, 5, 0, 0, 0, 1, 0],\n",
    "          [0, 9, 0, 0, 0, 0, 4, 0, 0]]"
   ]
  },
  {
   "cell_type": "code",
   "execution_count": 13,
   "metadata": {},
   "outputs": [
    {
     "name": "stdout",
     "output_type": "stream",
     "text": [
      "8 1 2 7 5 3 6 4 9 \n",
      "9 4 3 6 8 2 1 7 5 \n",
      "6 7 5 4 9 1 2 8 3 \n",
      "1 5 4 2 3 7 8 9 6 \n",
      "3 6 9 8 4 5 7 2 1 \n",
      "2 8 7 1 6 9 5 3 4 \n",
      "5 2 1 9 7 4 3 6 8 \n",
      "4 3 8 5 2 6 9 1 7 \n",
      "7 9 6 3 1 8 4 5 2 \n"
     ]
    }
   ],
   "source": [
    "solution(sudoku)"
   ]
  },
  {
   "cell_type": "code",
   "execution_count": null,
   "metadata": {
    "collapsed": true
   },
   "outputs": [],
   "source": []
  }
 ],
 "metadata": {
  "kernelspec": {
   "display_name": "Python 3",
   "language": "python",
   "name": "python3"
  },
  "language_info": {
   "codemirror_mode": {
    "name": "ipython",
    "version": 3
   },
   "file_extension": ".py",
   "mimetype": "text/x-python",
   "name": "python",
   "nbconvert_exporter": "python",
   "pygments_lexer": "ipython3",
   "version": "3.6.3"
  }
 },
 "nbformat": 4,
 "nbformat_minor": 2
}
